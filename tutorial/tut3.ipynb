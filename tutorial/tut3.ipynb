{
 "cells": [
  {
   "cell_type": "code",
   "execution_count": 13,
   "metadata": {},
   "outputs": [],
   "source": [
    "import cv2\n",
    "import numpy as np\n",
    "\n",
    "def make_circles(event,X,Y,flags,param):\n",
    "    if event==cv2.EVENT_LBUTTONDOWN:\n",
    "        cv2.circle(img,(X,Y),100,(255,0,255),thickness = -1)\n",
    "    elif event==cv2.EVENT_RBUTTONDOWN:\n",
    "        cv2.circle(img,(X,Y),100,(0,255,123),thickness = -1)\n",
    "cv2.namedWindow(winname='Blank')\n",
    "cv2.setMouseCallback('Blank',make_circles)\n",
    "\n",
    "\n",
    "img = np.zeros((512,512,3))\n",
    "while True:\n",
    "    cv2.imshow('Blank',img)\n",
    "    if cv2.waitKey(1) & 0xFF==27:\n",
    "        break\n",
    "cv2.destroyAllWindows()"
   ]
  },
  {
   "cell_type": "code",
   "execution_count": null,
   "metadata": {},
   "outputs": [],
   "source": []
  },
  {
   "cell_type": "code",
   "execution_count": 18,
   "metadata": {},
   "outputs": [],
   "source": [
    "import cv2\n",
    "import numpy as np\n",
    "\n",
    "### making a variables\n",
    "drawing = False\n",
    "ix , iy = -1,-1\n",
    "\n",
    "\n",
    "### making function\n",
    "def make_rectangle(event ,x ,y,flags ,param):\n",
    "    global drawing, ix,iy\n",
    "    if event == cv2.EVENT_LBUTTONDOWN:\n",
    "        drawing = True\n",
    "        ix , iy = x,y\n",
    "    elif event == cv2.EVENT_MOUSEMOVE:\n",
    "        if drawing:\n",
    "         cv2.rectangle(img , (ix,iy),(x,y),(225,225,0),thickness = -1)\n",
    "    elif event == cv2.EVENT_LBUTTONUP:\n",
    "        drawing = False\n",
    "        cv2.rectangle(img , (ix,iy),(x,y),(225,225,0),thickness = -1)\n",
    "        \n",
    "    \n",
    "\n",
    "\n",
    "cv2.namedWindow('Blank')\n",
    "cv2.setMouseCallback('Blank' , make_rectangle)\n",
    "### make a window\n",
    "img = np.zeros((512,512,3))# making a blank window\n",
    "### for closing the window\n",
    "while True:\n",
    "    cv2.imshow('Blank' , img)\n",
    "    if cv2.waitKey(1) & 0xFF ==27:\n",
    "        break\n",
    "cv2.destroyAllWindows()\n",
    "\n"
   ]
  },
  {
   "cell_type": "code",
   "execution_count": 6,
   "metadata": {},
   "outputs": [],
   "source": []
  },
  {
   "cell_type": "code",
   "execution_count": null,
   "metadata": {},
   "outputs": [],
   "source": []
  }
 ],
 "metadata": {
  "kernelspec": {
   "display_name": "Python 3",
   "language": "python",
   "name": "python3"
  },
  "language_info": {
   "codemirror_mode": {
    "name": "ipython",
    "version": 3
   },
   "file_extension": ".py",
   "mimetype": "text/x-python",
   "name": "python",
   "nbconvert_exporter": "python",
   "pygments_lexer": "ipython3",
   "version": "3.6.6"
  }
 },
 "nbformat": 4,
 "nbformat_minor": 2
}
